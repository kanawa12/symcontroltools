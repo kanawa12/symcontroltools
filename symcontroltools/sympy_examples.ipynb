{
 "cells": [
  {
   "cell_type": "markdown",
   "id": "f47741ee",
   "metadata": {},
   "source": [
    "sympyで連立方程式を扱うときのメモ"
   ]
  },
  {
   "cell_type": "code",
   "execution_count": 18,
   "id": "2eeb0008",
   "metadata": {},
   "outputs": [],
   "source": [
    "#pip install --upgrade --force-reinstall  git+https://github.com/kanawa12/symcontroltools"
   ]
  },
  {
   "cell_type": "code",
   "execution_count": 19,
   "id": "a08a44a2",
   "metadata": {},
   "outputs": [],
   "source": [
    "import sympy as sp\n",
    "import control as ct\n",
    "import symcontroltools as sct\n",
    "from symcontroltools import dp"
   ]
  },
  {
   "cell_type": "markdown",
   "id": "de15eef3",
   "metadata": {},
   "source": [
    "# 変数の定義"
   ]
  },
  {
   "cell_type": "code",
   "execution_count": 20,
   "id": "e8658357",
   "metadata": {},
   "outputs": [
    {
     "data": {
      "text/latex": [
       "$\\displaystyle \\left( \\left[\\begin{matrix}{a_{p}}_{1} & {a_{p}}_{2} & {a_{p}}_{3}\\\\{a_{p}}_{4} & {a_{p}}_{5} & {a_{p}}_{6}\\\\{a_{p}}_{7} & {a_{p}}_{8} & {a_{p}}_{9}\\end{matrix}\\right], \\  {a_{p}}_{1}, \\  {a_{p}}_{2}, \\  {a_{p}}_{3}, \\  {a_{p}}_{4}, \\  {a_{p}}_{5}, \\  {a_{p}}_{6}, \\  {a_{p}}_{7}, \\  {a_{p}}_{8}, \\  {a_{p}}_{9}\\right)$"
      ],
      "text/plain": [
       "(Matrix([\n",
       "[{a_{p}}_{1}, {a_{p}}_{2}, {a_{p}}_{3}],\n",
       "[{a_{p}}_{4}, {a_{p}}_{5}, {a_{p}}_{6}],\n",
       "[{a_{p}}_{7}, {a_{p}}_{8}, {a_{p}}_{9}]]), {a_{p}}_{1}, {a_{p}}_{2}, {a_{p}}_{3}, {a_{p}}_{4}, {a_{p}}_{5}, {a_{p}}_{6}, {a_{p}}_{7}, {a_{p}}_{8}, {a_{p}}_{9})"
      ]
     },
     "metadata": {},
     "output_type": "display_data"
    },
    {
     "name": "stdout",
     "output_type": "stream",
     "text": [
      "$$\\left( \\left[\\begin{matrix}{a_{p}}_{1} & {a_{p}}_{2} & {a_{p}}_{3}\\\\{a_{p}}_{4} & {a_{p}}_{5} & {a_{p}}_{6}\\\\{a_{p}}_{7} & {a_{p}}_{8} & {a_{p}}_{9}\\end{matrix}\\right], \\  {a_{p}}_{1}, \\  {a_{p}}_{2}, \\  {a_{p}}_{3}, \\  {a_{p}}_{4}, \\  {a_{p}}_{5}, \\  {a_{p}}_{6}, \\  {a_{p}}_{7}, \\  {a_{p}}_{8}, \\  {a_{p}}_{9}\\right)$$<details><summary>sympy.srepr()</summary><p>Tuple(ImmutableDenseMatrix([[Symbol('{a_{p}}_{1}'), Symbol('{a_{p}}_{2}'), Symbol('{a_{p}}_{3}')], [Symbol('{a_{p}}_{4}'), Symbol('{a_{p}}_{5}'), Symbol('{a_{p}}_{6}')], [Symbol('{a_{p}}_{7}'), Symbol('{a_{p}}_{8}'), Symbol('{a_{p}}_{9}')]]), Symbol('{a_{p}}_{1}'), Symbol('{a_{p}}_{2}'), Symbol('{a_{p}}_{3}'), Symbol('{a_{p}}_{4}'), Symbol('{a_{p}}_{5}'), Symbol('{a_{p}}_{6}'), Symbol('{a_{p}}_{7}'), Symbol('{a_{p}}_{8}'), Symbol('{a_{p}}_{9}'))</p></details>\n"
     ]
    },
    {
     "data": {
      "text/latex": [
       "$\\displaystyle \\left[\\begin{matrix}{a_{p}}_{1} & {a_{p}}_{2} & {a_{p}}_{3}\\\\{a_{p}}_{4} & {a_{p}}_{5} & {a_{p}}_{6}\\\\{a_{p}}_{7} & {a_{p}}_{8} & {a_{p}}_{9}\\end{matrix}\\right] \\left[\\begin{matrix}{x_{p}}_{1}\\\\{x_{p}}_{2}\\\\{x_{p}}_{3}\\end{matrix}\\right] = \\left[\\begin{matrix}{y_{p}}_{1}\\\\{y_{p}}_{2}\\\\{y_{p}}_{3}\\end{matrix}\\right]$"
      ],
      "text/plain": [
       "Eq(Matrix([\n",
       "[{a_{p}}_{1}, {a_{p}}_{2}, {a_{p}}_{3}],\n",
       "[{a_{p}}_{4}, {a_{p}}_{5}, {a_{p}}_{6}],\n",
       "[{a_{p}}_{7}, {a_{p}}_{8}, {a_{p}}_{9}]])*Matrix([\n",
       "[{x_{p}}_{1}],\n",
       "[{x_{p}}_{2}],\n",
       "[{x_{p}}_{3}]]), Matrix([\n",
       "[{y_{p}}_{1}],\n",
       "[{y_{p}}_{2}],\n",
       "[{y_{p}}_{3}]]))"
      ]
     },
     "metadata": {},
     "output_type": "display_data"
    },
    {
     "name": "stdout",
     "output_type": "stream",
     "text": [
      "$$\\left[\\begin{matrix}{a_{p}}_{1} & {a_{p}}_{2} & {a_{p}}_{3}\\\\{a_{p}}_{4} & {a_{p}}_{5} & {a_{p}}_{6}\\\\{a_{p}}_{7} & {a_{p}}_{8} & {a_{p}}_{9}\\end{matrix}\\right] \\left[\\begin{matrix}{x_{p}}_{1}\\\\{x_{p}}_{2}\\\\{x_{p}}_{3}\\end{matrix}\\right] = \\left[\\begin{matrix}{y_{p}}_{1}\\\\{y_{p}}_{2}\\\\{y_{p}}_{3}\\end{matrix}\\right]$$<details><summary>sympy.srepr()</summary><p>Equality(MatMul(ImmutableDenseMatrix([[Symbol('{a_{p}}_{1}'), Symbol('{a_{p}}_{2}'), Symbol('{a_{p}}_{3}')], [Symbol('{a_{p}}_{4}'), Symbol('{a_{p}}_{5}'), Symbol('{a_{p}}_{6}')], [Symbol('{a_{p}}_{7}'), Symbol('{a_{p}}_{8}'), Symbol('{a_{p}}_{9}')]]), ImmutableDenseMatrix([[Symbol('{x_{p}}_{1}')], [Symbol('{x_{p}}_{2}')], [Symbol('{x_{p}}_{3}')]])), ImmutableDenseMatrix([[Symbol('{y_{p}}_{1}')], [Symbol('{y_{p}}_{2}')], [Symbol('{y_{p}}_{3}')]]))</p></details>\n"
     ]
    },
    {
     "data": {
      "text/latex": [
       "$\\displaystyle \\left( \\left[\\begin{matrix}{a_{p}}_{1} & {a_{p}}_{2} & {a_{p}}_{3}\\\\{a_{p}}_{4} & {a_{p}}_{5} & {a_{p}}_{6}\\\\{a_{p}}_{7} & {a_{p}}_{8} & {a_{p}}_{9}\\end{matrix}\\right], \\  \\left[\\begin{matrix}{x_{p}}_{1}\\\\{x_{p}}_{2}\\\\{x_{p}}_{3}\\end{matrix}\\right], \\  \\left[\\begin{matrix}{y_{p}}_{1}\\\\{y_{p}}_{2}\\\\{y_{p}}_{3}\\end{matrix}\\right]\\right)$"
      ],
      "text/plain": [
       "(Matrix([\n",
       "[{a_{p}}_{1}, {a_{p}}_{2}, {a_{p}}_{3}],\n",
       "[{a_{p}}_{4}, {a_{p}}_{5}, {a_{p}}_{6}],\n",
       "[{a_{p}}_{7}, {a_{p}}_{8}, {a_{p}}_{9}]]), Matrix([\n",
       "[{x_{p}}_{1}],\n",
       "[{x_{p}}_{2}],\n",
       "[{x_{p}}_{3}]]), Matrix([\n",
       "[{y_{p}}_{1}],\n",
       "[{y_{p}}_{2}],\n",
       "[{y_{p}}_{3}]]))"
      ]
     },
     "metadata": {},
     "output_type": "display_data"
    },
    {
     "name": "stdout",
     "output_type": "stream",
     "text": [
      "$$\\left( \\left[\\begin{matrix}{a_{p}}_{1} & {a_{p}}_{2} & {a_{p}}_{3}\\\\{a_{p}}_{4} & {a_{p}}_{5} & {a_{p}}_{6}\\\\{a_{p}}_{7} & {a_{p}}_{8} & {a_{p}}_{9}\\end{matrix}\\right], \\  \\left[\\begin{matrix}{x_{p}}_{1}\\\\{x_{p}}_{2}\\\\{x_{p}}_{3}\\end{matrix}\\right], \\  \\left[\\begin{matrix}{y_{p}}_{1}\\\\{y_{p}}_{2}\\\\{y_{p}}_{3}\\end{matrix}\\right]\\right)$$<details><summary>sympy.srepr()</summary><p>Tuple(ImmutableDenseMatrix([[Symbol('{a_{p}}_{1}'), Symbol('{a_{p}}_{2}'), Symbol('{a_{p}}_{3}')], [Symbol('{a_{p}}_{4}'), Symbol('{a_{p}}_{5}'), Symbol('{a_{p}}_{6}')], [Symbol('{a_{p}}_{7}'), Symbol('{a_{p}}_{8}'), Symbol('{a_{p}}_{9}')]]), ImmutableDenseMatrix([[Symbol('{x_{p}}_{1}')], [Symbol('{x_{p}}_{2}')], [Symbol('{x_{p}}_{3}')]]), ImmutableDenseMatrix([[Symbol('{y_{p}}_{1}')], [Symbol('{y_{p}}_{2}')], [Symbol('{y_{p}}_{3}')]]))</p></details>\n"
     ]
    }
   ],
   "source": [
    "dim = 3\n",
    "Ap = sp.Matrix( ap := sp.symbols(r\"{a_{p}}_{1:\"+str(dim**2 + 1)+\"}\") ).reshape(dim, dim)\n",
    "Xp = sp.Matrix( xp := sp.symbols(r\"{x_{p}}_{1:\"+str(dim + 1)+\"}\") ).reshape(dim, 1)\n",
    "Yp = sp.Matrix( yp := sp.symbols(r\"{y_{p}}_{1:\"+str(dim + 1)+\"}\") ).reshape(dim, 1)\n",
    "dp(sp.Tuple(Ap, *ap))\n",
    "dp( expr1 := sp.Eq(sp.MatMul(Ap, Xp, evaluate=False), Yp, evaluate=False) )\n",
    "dp( sp.Tuple(Ap, Xp, Yp) )\n"
   ]
  },
  {
   "cell_type": "code",
   "execution_count": 21,
   "id": "eb39ef38",
   "metadata": {},
   "outputs": [
    {
     "data": {
      "text/plain": [
       "{{a_{p}}_{1},\n",
       " {a_{p}}_{2},\n",
       " {a_{p}}_{3},\n",
       " {a_{p}}_{4},\n",
       " {a_{p}}_{5},\n",
       " {a_{p}}_{6},\n",
       " {a_{p}}_{7},\n",
       " {a_{p}}_{8},\n",
       " {a_{p}}_{9},\n",
       " {x_{p}}_{1},\n",
       " {x_{p}}_{2},\n",
       " {x_{p}}_{3},\n",
       " {y_{p}}_{1},\n",
       " {y_{p}}_{2},\n",
       " {y_{p}}_{3}}"
      ]
     },
     "metadata": {},
     "output_type": "display_data"
    },
    {
     "name": "stdout",
     "output_type": "stream",
     "text": [
      "$$\\left\\{{a_{p}}_{1}, {a_{p}}_{2}, {a_{p}}_{3}, {a_{p}}_{4}, {a_{p}}_{5}, {a_{p}}_{6}, {a_{p}}_{7}, {a_{p}}_{8}, {a_{p}}_{9}, {x_{p}}_{1}, {x_{p}}_{2}, {x_{p}}_{3}, {y_{p}}_{1}, {y_{p}}_{2}, {y_{p}}_{3}\\right\\}$$<details><summary>sympy.srepr()</summary><p>{Symbol('{a_{p}}_{4}'), Symbol('{y_{p}}_{1}'), Symbol('{a_{p}}_{1}'), Symbol('{a_{p}}_{9}'), Symbol('{y_{p}}_{2}'), Symbol('{a_{p}}_{2}'), Symbol('{x_{p}}_{3}'), Symbol('{a_{p}}_{6}'), Symbol('{x_{p}}_{1}'), Symbol('{a_{p}}_{8}'), Symbol('{a_{p}}_{7}'), Symbol('{y_{p}}_{3}'), Symbol('{a_{p}}_{3}'), Symbol('{x_{p}}_{2}'), Symbol('{a_{p}}_{5}')}</p></details>\n"
     ]
    }
   ],
   "source": [
    "dp(expr1.free_symbols)"
   ]
  },
  {
   "cell_type": "code",
   "execution_count": 22,
   "id": "36272d14",
   "metadata": {},
   "outputs": [
    {
     "data": {
      "text/plain": [
       "{'expr': Eq(Matrix([\n",
       " [{a_{p}}_{1}, {a_{p}}_{2}, {a_{p}}_{3}],\n",
       " [{a_{p}}_{4}, {a_{p}}_{5}, {a_{p}}_{6}],\n",
       " [{a_{p}}_{7}, {a_{p}}_{8}, {a_{p}}_{9}]])*Matrix([\n",
       " [{x_{p}}_{1}],\n",
       " [{x_{p}}_{2}],\n",
       " [{x_{p}}_{3}]]), Matrix([\n",
       " [{y_{p}}_{1}],\n",
       " [{y_{p}}_{2}],\n",
       " [{y_{p}}_{3}]])),\n",
       " 'syms': ({a_{p}}_{1},\n",
       "  {a_{p}}_{2},\n",
       "  {a_{p}}_{3},\n",
       "  {a_{p}}_{4},\n",
       "  {a_{p}}_{5},\n",
       "  {a_{p}}_{6},\n",
       "  {a_{p}}_{7},\n",
       "  {a_{p}}_{8},\n",
       "  {a_{p}}_{9},\n",
       "  {x_{p}}_{1},\n",
       "  {x_{p}}_{2},\n",
       "  {x_{p}}_{3})}"
      ]
     },
     "metadata": {},
     "output_type": "display_data"
    },
    {
     "name": "stdout",
     "output_type": "stream",
     "text": [
      "$$\\left\\{ \\mathtt{\\text{expr}} : \\left[\\begin{matrix}{a_{p}}_{1} & {a_{p}}_{2} & {a_{p}}_{3}\\\\{a_{p}}_{4} & {a_{p}}_{5} & {a_{p}}_{6}\\\\{a_{p}}_{7} & {a_{p}}_{8} & {a_{p}}_{9}\\end{matrix}\\right] \\left[\\begin{matrix}{x_{p}}_{1}\\\\{x_{p}}_{2}\\\\{x_{p}}_{3}\\end{matrix}\\right] = \\left[\\begin{matrix}{y_{p}}_{1}\\\\{y_{p}}_{2}\\\\{y_{p}}_{3}\\end{matrix}\\right], \\  \\mathtt{\\text{syms}} : \\left( {a_{p}}_{1}, \\  {a_{p}}_{2}, \\  {a_{p}}_{3}, \\  {a_{p}}_{4}, \\  {a_{p}}_{5}, \\  {a_{p}}_{6}, \\  {a_{p}}_{7}, \\  {a_{p}}_{8}, \\  {a_{p}}_{9}, \\  {x_{p}}_{1}, \\  {x_{p}}_{2}, \\  {x_{p}}_{3}\\right)\\right\\}$$<details><summary>sympy.srepr()</summary><p>{'expr': Equality(MatMul(ImmutableDenseMatrix([[Symbol('{a_{p}}_{1}'), Symbol('{a_{p}}_{2}'), Symbol('{a_{p}}_{3}')], [Symbol('{a_{p}}_{4}'), Symbol('{a_{p}}_{5}'), Symbol('{a_{p}}_{6}')], [Symbol('{a_{p}}_{7}'), Symbol('{a_{p}}_{8}'), Symbol('{a_{p}}_{9}')]]), ImmutableDenseMatrix([[Symbol('{x_{p}}_{1}')], [Symbol('{x_{p}}_{2}')], [Symbol('{x_{p}}_{3}')]])), ImmutableDenseMatrix([[Symbol('{y_{p}}_{1}')], [Symbol('{y_{p}}_{2}')], [Symbol('{y_{p}}_{3}')]])), 'syms': (Symbol('{a_{p}}_{1}'), Symbol('{a_{p}}_{2}'), Symbol('{a_{p}}_{3}'), Symbol('{a_{p}}_{4}'), Symbol('{a_{p}}_{5}'), Symbol('{a_{p}}_{6}'), Symbol('{a_{p}}_{7}'), Symbol('{a_{p}}_{8}'), Symbol('{a_{p}}_{9}'), Symbol('{x_{p}}_{1}'), Symbol('{x_{p}}_{2}'), Symbol('{x_{p}}_{3}'))}</p></details>\n"
     ]
    }
   ],
   "source": [
    "exprs1 = {\"expr\": expr1, \"syms\": expr1.free_symbols}\n",
    "# または\n",
    "exprs1 = {\"expr\": expr1, \"syms\": (*ap, *xp)}\n",
    "dp(exprs1)"
   ]
  },
  {
   "cell_type": "code",
   "execution_count": null,
   "id": "65dcb938",
   "metadata": {},
   "outputs": [],
   "source": []
  },
  {
   "cell_type": "code",
   "execution_count": null,
   "id": "52f17592",
   "metadata": {},
   "outputs": [],
   "source": []
  },
  {
   "cell_type": "code",
   "execution_count": null,
   "id": "50e28e5d",
   "metadata": {},
   "outputs": [],
   "source": [
    "\n"
   ]
  },
  {
   "cell_type": "code",
   "execution_count": 23,
   "id": "9707ea2c",
   "metadata": {},
   "outputs": [
    {
     "name": "stdout",
     "output_type": "stream",
     "text": [
      "1.0 10.0 100.0 1000.0\n"
     ]
    }
   ],
   "source": [
    "print(*val[0])"
   ]
  },
  {
   "cell_type": "code",
   "execution_count": null,
   "id": "a9c6ca7b",
   "metadata": {},
   "outputs": [],
   "source": [
    "import numpy as np\n",
    "# sympy式とラムダ関数の定義\n",
    "a, b, c, d = sp.symbols(\"a b c d\")\n",
    "func = sp.Matrix([0.1*b, 0.1*a, 0.1*d, 0.1*c])\n",
    "arg_order = list(func.free_symbols)\n",
    "#arg_order = [ b, a, c, d]\n",
    "func_lamb = sp.lambdify(arg_order, func, \"numpy\")\n",
    "# csvデータの読み取りと引数の順に並べ替え\n",
    "csv_order = [a, b, c, d]\n",
    "csv_data = \"\"\"\n",
    "1, 10, 100, 1000\n",
    "2, 20, 200, 2000\n",
    "3, 30, 300, 3000\n",
    "\"\"\"\n",
    "val = sct.setDataOrder(arg_order, csv_order, csv_data, isFile=False)"
   ]
  },
  {
   "cell_type": "code",
   "execution_count": null,
   "id": "942932ca",
   "metadata": {},
   "outputs": [
    {
     "data": {
      "text/plain": [
       "[b, a, c, d]"
      ]
     },
     "metadata": {},
     "output_type": "display_data"
    },
    {
     "data": {
      "text/plain": [
       "[a, b, c, d]"
      ]
     },
     "metadata": {},
     "output_type": "display_data"
    },
    {
     "name": "stdout",
     "output_type": "stream",
     "text": [
      "[[10.0, 20.0, 30.0], [1.0, 2.0, 3.0], [100.0, 200.0, 300.0], [1000.0, 2000.0, 3000.0]]\n",
      "[[10.0, 1.0, 100.0, 1000.0], [20.0, 2.0, 200.0, 2000.0], [30.0, 3.0, 300.0, 3000.0]]\n"
     ]
    }
   ],
   "source": [
    "\n",
    "import pandas as pd\n",
    "import io\n",
    "\n",
    "# sympy式とラムダ関数の定義\n",
    "a, b, c, d = sp.symbols(\"a b c d\")\n",
    "func = sp.Matrix([0.1*b, 0.1*a, 0.1*d, 0.1*c])\n",
    "arg_order = list(func.free_symbols)\n",
    "#arg_order = [ b, a, c, d]\n",
    "func_lamb = sp.lambdify(arg_order, func, \"numpy\")\n",
    "# csvデータの読み取りと引数の順に並べ替え\n",
    "csv_order = [a, b, c, d]\n",
    "csv_data = \"\"\"\n",
    "1, 10, 100, 1000\n",
    "2, 20, 200, 2000\n",
    "3, 30, 300, 3000\n",
    "\"\"\"\n",
    "f = io.StringIO(csv_data.strip())\n",
    "df = pd.read_csv(f, header=None, names=csv_order, skipinitialspace=True, dtype=float)\n",
    "#df = pd.read_csv('data.csv', header=None, names=labels, skipinitialspace=True)\n",
    "datadict = df.to_dict(orient='list')\n",
    "ordered_values = [datadict[key] for key in arg_order]\n",
    "val = [ list(d) for d in list(zip(*ordered_values))]\n",
    "# 行ごとに計算\n",
    "ans = [np.array(func_lamb(*v).reshape(len(arg_order))) for v in val]\n",
    "\n"
   ]
  },
  {
   "cell_type": "code",
   "execution_count": 25,
   "id": "61ce6f6c",
   "metadata": {},
   "outputs": [
    {
     "data": {
      "text/plain": [
       "array([  1. ,   0.1, 100. ,  10. ])"
      ]
     },
     "execution_count": 25,
     "metadata": {},
     "output_type": "execute_result"
    }
   ],
   "source": [
    "func_lamb(*val[0]).reshape(4)"
   ]
  },
  {
   "cell_type": "code",
   "execution_count": 26,
   "id": "a0212432",
   "metadata": {},
   "outputs": [
    {
     "ename": "TypeError",
     "evalue": "can't multiply sequence by non-int of type 'float'",
     "output_type": "error",
     "traceback": [
      "\u001b[31m---------------------------------------------------------------------------\u001b[39m",
      "\u001b[31mTypeError\u001b[39m                                 Traceback (most recent call last)",
      "\u001b[36mCell\u001b[39m\u001b[36m \u001b[39m\u001b[32mIn[26]\u001b[39m\u001b[32m, line 5\u001b[39m\n\u001b[32m      3\u001b[39m ful = sp.lambdify(fa, fc, \u001b[33m'\u001b[39m\u001b[33mnumpy\u001b[39m\u001b[33m'\u001b[39m)\n\u001b[32m      4\u001b[39m ov = [[\u001b[32m10.0\u001b[39m, \u001b[32m20.0\u001b[39m, \u001b[32m30.0\u001b[39m], [\u001b[32m1.0\u001b[39m, \u001b[32m2.0\u001b[39m, \u001b[32m3.0\u001b[39m], [\u001b[32m1000.0\u001b[39m, \u001b[32m2000.0\u001b[39m, \u001b[32m3000.0\u001b[39m], [\u001b[32m100.0\u001b[39m, \u001b[32m200.0\u001b[39m, \u001b[32m300.0\u001b[39m]]\n\u001b[32m----> \u001b[39m\u001b[32m5\u001b[39m \u001b[38;5;28mprint\u001b[39m(\u001b[43mful\u001b[49m\u001b[43m(\u001b[49m\u001b[43m*\u001b[49m\u001b[43mov\u001b[49m\u001b[43m)\u001b[49m)\n",
      "\u001b[36mFile \u001b[39m\u001b[32m<lambdifygenerated-6>:2\u001b[39m, in \u001b[36m_lambdifygenerated\u001b[39m\u001b[34m(a, b, c, d)\u001b[39m\n\u001b[32m      1\u001b[39m \u001b[38;5;28;01mdef\u001b[39;00m\u001b[38;5;250m \u001b[39m\u001b[34m_lambdifygenerated\u001b[39m(a, b, c, d):\n\u001b[32m----> \u001b[39m\u001b[32m2\u001b[39m     \u001b[38;5;28;01mreturn\u001b[39;00m array([[\u001b[32;43m0.1\u001b[39;49m\u001b[43m*\u001b[49m\u001b[43mb\u001b[49m, \u001b[32m0.1\u001b[39m*a, \u001b[32m0.1\u001b[39m*d, \u001b[32m0.1\u001b[39m*c]])\n",
      "\u001b[31mTypeError\u001b[39m: can't multiply sequence by non-int of type 'float'"
     ]
    }
   ],
   "source": [
    "fc = sp.Matrix([[0.1*b, 0.1*a, 0.1*d, 0.1*c]])\n",
    "fa = list(fc.free_symbols)\n",
    "ful = sp.lambdify(fa, fc, 'numpy')\n",
    "ov = [[10.0, 20.0, 30.0], [1.0, 2.0, 3.0], [1000.0, 2000.0, 3000.0], [100.0, 200.0, 300.0]]\n",
    "print(ful(*ov))"
   ]
  },
  {
   "cell_type": "code",
   "execution_count": null,
   "id": "a805acc6",
   "metadata": {},
   "outputs": [
    {
     "data": {
      "text/plain": [
       "array([[1.e+01, 2.e+01, 3.e+01],\n",
       "       [1.e+00, 2.e+00, 3.e+00],\n",
       "       [1.e+03, 2.e+03, 3.e+03],\n",
       "       [1.e+02, 2.e+02, 3.e+02]])"
      ]
     },
     "metadata": {},
     "output_type": "display_data"
    },
    {
     "data": {
      "text/plain": [
       "(4, 3)"
      ]
     },
     "metadata": {},
     "output_type": "display_data"
    },
    {
     "name": "stdout",
     "output_type": "stream",
     "text": [
      "[[[3.e+00 6.e+00 9.e+00]]\n",
      "\n",
      " [[2.e-01 4.e-01 6.e-01]]\n",
      "\n",
      " [[2.e+02 4.e+02 6.e+02]]\n",
      "\n",
      " [[2.e+01 4.e+01 6.e+01]]]\n",
      "(4, 1, 3)\n"
     ]
    }
   ],
   "source": [
    "import sympy as sp\n",
    "import numpy as np # NumPyバックエンドを使うためインポート（必須ではないが分かりやすさのため）\n",
    "\n",
    "# 1. シンボルを定義\n",
    "a, b, c, d = sp.symbols('a b c d')\n",
    "\n",
    "# 2. SymPyのMatrixを定義\n",
    "fc = sp.Matrix([0.2*b +  a, 0.2*a, 0.2*d, 0.2*c])\n",
    "\n",
    "# 3. (修正点 1) 引数の順序を明示的に定義\n",
    "# list(fc.free_symbols) は順序を保証しません。\n",
    "# ov のデータ [b_vals, a_vals, d_vals, c_vals] の順序に合わせます。\n",
    "fa = [b, a, d, c]\n",
    "\n",
    "# 4. (修正点 2) lambdifyのバックエンドに 'numpy' を指定\n",
    "# これにより、リストやNumPy配列の要素ごとの計算が可能になります。\n",
    "ful = sp.lambdify(fa, fc, modules='numpy')\n",
    "\n",
    "# 5. 入力データ (列のリスト)\n",
    "ov = np.array([[10.0, 20.0, 30.0], [1.0, 2.0, 3.0], [1000.0, 2000.0, 3000.0], [100.0, 200.0, 300.0]])\n",
    "display(ov)\n",
    "display(ov.shape)\n",
    "# 6. 関数を実行\n",
    "result = ful(*ov)\n",
    "print(result)\n",
    "print(result.shape)"
   ]
  },
  {
   "cell_type": "code",
   "execution_count": null,
   "id": "2a39486b",
   "metadata": {},
   "outputs": [],
   "source": [
    "bps_identmat = sp.parse_expr(\"ImmutableDenseMatrix([[Mul(Symbol('{b_{m}}_{1;1}'), Symbol('{b_{m}}_{1;2}'), Add(Mul(Integer(-1), Symbol('{k_{x}}_{1;1}')), Symbol('{k_{x}}_{1;2}')), Pow(Add(Mul(Symbol('{b_{m}}_{1;1}'), Symbol('{b_{m}}_{2;2}'), Symbol('{k_{x}}_{1;1}'), Symbol('{k_{x}}_{1;2}')), Mul(Integer(-1), Symbol('{b_{m}}_{1;1}'), Symbol('{k_{u}}_{1;2}'), Symbol('{k_{x}}_{1;1}')), Mul(Integer(-1), Symbol('{b_{m}}_{1;2}'), Symbol('{b_{m}}_{2;1}'), Symbol('{k_{x}}_{1;1}'), Symbol('{k_{x}}_{1;2}')), Mul(Symbol('{b_{m}}_{1;2}'), Symbol('{k_{u}}_{1;1}'), Symbol('{k_{x}}_{1;2}'))), Integer(-1)))], [Mul(Add(Mul(Symbol('{b_{m}}_{1;1}'), Symbol('{b_{m}}_{2;2}'), Symbol('{k_{x}}_{1;2}')), Mul(Integer(-1), Symbol('{b_{m}}_{1;1}'), Symbol('{k_{u}}_{1;2}')), Mul(Integer(-1), Symbol('{b_{m}}_{1;2}'), Symbol('{b_{m}}_{2;1}'), Symbol('{k_{x}}_{1;1}')), Mul(Symbol('{b_{m}}_{1;2}'), Symbol('{k_{u}}_{1;1}'))), Pow(Add(Mul(Symbol('{b_{m}}_{1;1}'), Symbol('{b_{m}}_{2;2}'), Symbol('{k_{x}}_{1;1}'), Symbol('{k_{x}}_{1;2}')), Mul(Integer(-1), Symbol('{b_{m}}_{1;1}'), Symbol('{k_{u}}_{1;2}'), Symbol('{k_{x}}_{1;1}')), Mul(Integer(-1), Symbol('{b_{m}}_{1;2}'), Symbol('{b_{m}}_{2;1}'), Symbol('{k_{x}}_{1;1}'), Symbol('{k_{x}}_{1;2}')), Mul(Symbol('{b_{m}}_{1;2}'), Symbol('{k_{u}}_{1;1}'), Symbol('{k_{x}}_{1;2}'))), Integer(-1)))]])\")\n",
    "aps_identmat = sp.parse_expr(\"ImmutableDenseMatrix([[Add(Mul(Integer(-1), Symbol('{a_{m}}_{2}'), Symbol('{b_{p}}_{2}'), Symbol('{k_{x}}_{1}')), Symbol('{a_{m}}_{2}'), Mul(Symbol('{a_{m}}_{4}'), Symbol('{b_{p}}_{1}'), Symbol('{k_{x}}_{1}')), Mul(Integer(-1), Symbol('{b_{p}}_{1}'), Symbol('{k_{x}}_{2}')))], [Add(Symbol('{a_{m}}_{4}'), Mul(Integer(-1), Symbol('{b_{p}}_{1}'), Symbol('{k_{x}}_{1}')), Mul(Integer(-1), Symbol('{b_{p}}_{2}'), Symbol('{k_{x}}_{2}')))]])\")\n",
    "dp(bps_identmat.free_symbols)"
   ]
  }
 ],
 "metadata": {
  "kernelspec": {
   "display_name": "python-std",
   "language": "python",
   "name": "python3"
  },
  "language_info": {
   "codemirror_mode": {
    "name": "ipython",
    "version": 3
   },
   "file_extension": ".py",
   "mimetype": "text/x-python",
   "name": "python",
   "nbconvert_exporter": "python",
   "pygments_lexer": "ipython3",
   "version": "3.13.5"
  }
 },
 "nbformat": 4,
 "nbformat_minor": 5
}
