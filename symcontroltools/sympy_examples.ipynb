{
 "cells": [
  {
   "cell_type": "markdown",
   "id": "f47741ee",
   "metadata": {},
   "source": [
    "sympyで連立方程式を扱うときのメモ"
   ]
  },
  {
   "cell_type": "code",
   "execution_count": 10,
   "id": "2eeb0008",
   "metadata": {},
   "outputs": [],
   "source": [
    "#pip install --upgrade --force-reinstall  git+https://github.com/kanawa12/symcontroltools"
   ]
  },
  {
   "cell_type": "code",
   "execution_count": 11,
   "id": "a08a44a2",
   "metadata": {},
   "outputs": [],
   "source": [
    "import sympy as sp\n",
    "import control as ct\n",
    "import symcontroltools as sct\n",
    "from symcontroltools import dp"
   ]
  },
  {
   "cell_type": "markdown",
   "id": "de15eef3",
   "metadata": {},
   "source": [
    "# 変数の定義"
   ]
  },
  {
   "cell_type": "code",
   "execution_count": 12,
   "id": "e8658357",
   "metadata": {},
   "outputs": [
    {
     "data": {
      "text/latex": [
       "$\\displaystyle \\left( \\left[\\begin{matrix}{a_{p}}_{1} & {a_{p}}_{2} & {a_{p}}_{3}\\\\{a_{p}}_{4} & {a_{p}}_{5} & {a_{p}}_{6}\\\\{a_{p}}_{7} & {a_{p}}_{8} & {a_{p}}_{9}\\end{matrix}\\right], \\  {a_{p}}_{1}, \\  {a_{p}}_{2}, \\  {a_{p}}_{3}, \\  {a_{p}}_{4}, \\  {a_{p}}_{5}, \\  {a_{p}}_{6}, \\  {a_{p}}_{7}, \\  {a_{p}}_{8}, \\  {a_{p}}_{9}\\right)$"
      ],
      "text/plain": [
       "(Matrix([\n",
       "[{a_{p}}_{1}, {a_{p}}_{2}, {a_{p}}_{3}],\n",
       "[{a_{p}}_{4}, {a_{p}}_{5}, {a_{p}}_{6}],\n",
       "[{a_{p}}_{7}, {a_{p}}_{8}, {a_{p}}_{9}]]), {a_{p}}_{1}, {a_{p}}_{2}, {a_{p}}_{3}, {a_{p}}_{4}, {a_{p}}_{5}, {a_{p}}_{6}, {a_{p}}_{7}, {a_{p}}_{8}, {a_{p}}_{9})"
      ]
     },
     "metadata": {},
     "output_type": "display_data"
    },
    {
     "name": "stdout",
     "output_type": "stream",
     "text": [
      "$$\\left( \\left[\\begin{matrix}{a_{p}}_{1} & {a_{p}}_{2} & {a_{p}}_{3}\\\\{a_{p}}_{4} & {a_{p}}_{5} & {a_{p}}_{6}\\\\{a_{p}}_{7} & {a_{p}}_{8} & {a_{p}}_{9}\\end{matrix}\\right], \\  {a_{p}}_{1}, \\  {a_{p}}_{2}, \\  {a_{p}}_{3}, \\  {a_{p}}_{4}, \\  {a_{p}}_{5}, \\  {a_{p}}_{6}, \\  {a_{p}}_{7}, \\  {a_{p}}_{8}, \\  {a_{p}}_{9}\\right)$$<details><summary>sympy.srepr()</summary><p>Tuple(ImmutableDenseMatrix([[Symbol('{a_{p}}_{1}'), Symbol('{a_{p}}_{2}'), Symbol('{a_{p}}_{3}')], [Symbol('{a_{p}}_{4}'), Symbol('{a_{p}}_{5}'), Symbol('{a_{p}}_{6}')], [Symbol('{a_{p}}_{7}'), Symbol('{a_{p}}_{8}'), Symbol('{a_{p}}_{9}')]]), Symbol('{a_{p}}_{1}'), Symbol('{a_{p}}_{2}'), Symbol('{a_{p}}_{3}'), Symbol('{a_{p}}_{4}'), Symbol('{a_{p}}_{5}'), Symbol('{a_{p}}_{6}'), Symbol('{a_{p}}_{7}'), Symbol('{a_{p}}_{8}'), Symbol('{a_{p}}_{9}'))</p></details>\n"
     ]
    },
    {
     "data": {
      "text/latex": [
       "$\\displaystyle \\left[\\begin{matrix}{a_{p}}_{1} & {a_{p}}_{2} & {a_{p}}_{3}\\\\{a_{p}}_{4} & {a_{p}}_{5} & {a_{p}}_{6}\\\\{a_{p}}_{7} & {a_{p}}_{8} & {a_{p}}_{9}\\end{matrix}\\right] \\left[\\begin{matrix}{x_{p}}_{1}\\\\{x_{p}}_{2}\\\\{x_{p}}_{3}\\end{matrix}\\right] = \\left[\\begin{matrix}{y_{p}}_{1}\\\\{y_{p}}_{2}\\\\{y_{p}}_{3}\\end{matrix}\\right]$"
      ],
      "text/plain": [
       "Eq(Matrix([\n",
       "[{a_{p}}_{1}, {a_{p}}_{2}, {a_{p}}_{3}],\n",
       "[{a_{p}}_{4}, {a_{p}}_{5}, {a_{p}}_{6}],\n",
       "[{a_{p}}_{7}, {a_{p}}_{8}, {a_{p}}_{9}]])*Matrix([\n",
       "[{x_{p}}_{1}],\n",
       "[{x_{p}}_{2}],\n",
       "[{x_{p}}_{3}]]), Matrix([\n",
       "[{y_{p}}_{1}],\n",
       "[{y_{p}}_{2}],\n",
       "[{y_{p}}_{3}]]))"
      ]
     },
     "metadata": {},
     "output_type": "display_data"
    },
    {
     "name": "stdout",
     "output_type": "stream",
     "text": [
      "$$\\left[\\begin{matrix}{a_{p}}_{1} & {a_{p}}_{2} & {a_{p}}_{3}\\\\{a_{p}}_{4} & {a_{p}}_{5} & {a_{p}}_{6}\\\\{a_{p}}_{7} & {a_{p}}_{8} & {a_{p}}_{9}\\end{matrix}\\right] \\left[\\begin{matrix}{x_{p}}_{1}\\\\{x_{p}}_{2}\\\\{x_{p}}_{3}\\end{matrix}\\right] = \\left[\\begin{matrix}{y_{p}}_{1}\\\\{y_{p}}_{2}\\\\{y_{p}}_{3}\\end{matrix}\\right]$$<details><summary>sympy.srepr()</summary><p>Equality(MatMul(ImmutableDenseMatrix([[Symbol('{a_{p}}_{1}'), Symbol('{a_{p}}_{2}'), Symbol('{a_{p}}_{3}')], [Symbol('{a_{p}}_{4}'), Symbol('{a_{p}}_{5}'), Symbol('{a_{p}}_{6}')], [Symbol('{a_{p}}_{7}'), Symbol('{a_{p}}_{8}'), Symbol('{a_{p}}_{9}')]]), ImmutableDenseMatrix([[Symbol('{x_{p}}_{1}')], [Symbol('{x_{p}}_{2}')], [Symbol('{x_{p}}_{3}')]])), ImmutableDenseMatrix([[Symbol('{y_{p}}_{1}')], [Symbol('{y_{p}}_{2}')], [Symbol('{y_{p}}_{3}')]]))</p></details>\n"
     ]
    },
    {
     "data": {
      "text/latex": [
       "$\\displaystyle \\left( \\left[\\begin{matrix}{a_{p}}_{1} & {a_{p}}_{2} & {a_{p}}_{3}\\\\{a_{p}}_{4} & {a_{p}}_{5} & {a_{p}}_{6}\\\\{a_{p}}_{7} & {a_{p}}_{8} & {a_{p}}_{9}\\end{matrix}\\right], \\  \\left[\\begin{matrix}{x_{p}}_{1}\\\\{x_{p}}_{2}\\\\{x_{p}}_{3}\\end{matrix}\\right], \\  \\left[\\begin{matrix}{y_{p}}_{1}\\\\{y_{p}}_{2}\\\\{y_{p}}_{3}\\end{matrix}\\right]\\right)$"
      ],
      "text/plain": [
       "(Matrix([\n",
       "[{a_{p}}_{1}, {a_{p}}_{2}, {a_{p}}_{3}],\n",
       "[{a_{p}}_{4}, {a_{p}}_{5}, {a_{p}}_{6}],\n",
       "[{a_{p}}_{7}, {a_{p}}_{8}, {a_{p}}_{9}]]), Matrix([\n",
       "[{x_{p}}_{1}],\n",
       "[{x_{p}}_{2}],\n",
       "[{x_{p}}_{3}]]), Matrix([\n",
       "[{y_{p}}_{1}],\n",
       "[{y_{p}}_{2}],\n",
       "[{y_{p}}_{3}]]))"
      ]
     },
     "metadata": {},
     "output_type": "display_data"
    },
    {
     "name": "stdout",
     "output_type": "stream",
     "text": [
      "$$\\left( \\left[\\begin{matrix}{a_{p}}_{1} & {a_{p}}_{2} & {a_{p}}_{3}\\\\{a_{p}}_{4} & {a_{p}}_{5} & {a_{p}}_{6}\\\\{a_{p}}_{7} & {a_{p}}_{8} & {a_{p}}_{9}\\end{matrix}\\right], \\  \\left[\\begin{matrix}{x_{p}}_{1}\\\\{x_{p}}_{2}\\\\{x_{p}}_{3}\\end{matrix}\\right], \\  \\left[\\begin{matrix}{y_{p}}_{1}\\\\{y_{p}}_{2}\\\\{y_{p}}_{3}\\end{matrix}\\right]\\right)$$<details><summary>sympy.srepr()</summary><p>Tuple(ImmutableDenseMatrix([[Symbol('{a_{p}}_{1}'), Symbol('{a_{p}}_{2}'), Symbol('{a_{p}}_{3}')], [Symbol('{a_{p}}_{4}'), Symbol('{a_{p}}_{5}'), Symbol('{a_{p}}_{6}')], [Symbol('{a_{p}}_{7}'), Symbol('{a_{p}}_{8}'), Symbol('{a_{p}}_{9}')]]), ImmutableDenseMatrix([[Symbol('{x_{p}}_{1}')], [Symbol('{x_{p}}_{2}')], [Symbol('{x_{p}}_{3}')]]), ImmutableDenseMatrix([[Symbol('{y_{p}}_{1}')], [Symbol('{y_{p}}_{2}')], [Symbol('{y_{p}}_{3}')]]))</p></details>\n"
     ]
    }
   ],
   "source": [
    "dim = 3\n",
    "Ap = sp.Matrix( ap := sp.symbols(r\"{a_{p}}_{1:\"+str(dim**2 + 1)+\"}\") ).reshape(dim, dim)\n",
    "Xp = sp.Matrix( xp := sp.symbols(r\"{x_{p}}_{1:\"+str(dim + 1)+\"}\") ).reshape(dim, 1)\n",
    "Yp = sp.Matrix( yp := sp.symbols(r\"{y_{p}}_{1:\"+str(dim + 1)+\"}\") ).reshape(dim, 1)\n",
    "dp(sp.Tuple(Ap, *ap))\n",
    "dp( expr1 := sp.Eq(sp.MatMul(Ap, Xp, evaluate=False), Yp, evaluate=False) )\n",
    "dp( sp.Tuple(Ap, Xp, Yp) )\n"
   ]
  },
  {
   "cell_type": "code",
   "execution_count": 13,
   "id": "eb39ef38",
   "metadata": {},
   "outputs": [
    {
     "data": {
      "text/plain": [
       "{{a_{p}}_{1},\n",
       " {a_{p}}_{2},\n",
       " {a_{p}}_{3},\n",
       " {a_{p}}_{4},\n",
       " {a_{p}}_{5},\n",
       " {a_{p}}_{6},\n",
       " {a_{p}}_{7},\n",
       " {a_{p}}_{8},\n",
       " {a_{p}}_{9},\n",
       " {x_{p}}_{1},\n",
       " {x_{p}}_{2},\n",
       " {x_{p}}_{3},\n",
       " {y_{p}}_{1},\n",
       " {y_{p}}_{2},\n",
       " {y_{p}}_{3}}"
      ]
     },
     "metadata": {},
     "output_type": "display_data"
    },
    {
     "name": "stdout",
     "output_type": "stream",
     "text": [
      "$$\\left\\{{a_{p}}_{1}, {a_{p}}_{2}, {a_{p}}_{3}, {a_{p}}_{4}, {a_{p}}_{5}, {a_{p}}_{6}, {a_{p}}_{7}, {a_{p}}_{8}, {a_{p}}_{9}, {x_{p}}_{1}, {x_{p}}_{2}, {x_{p}}_{3}, {y_{p}}_{1}, {y_{p}}_{2}, {y_{p}}_{3}\\right\\}$$<details><summary>sympy.srepr()</summary><p>{Symbol('{a_{p}}_{1}'), Symbol('{a_{p}}_{7}'), Symbol('{y_{p}}_{2}'), Symbol('{x_{p}}_{2}'), Symbol('{a_{p}}_{5}'), Symbol('{a_{p}}_{2}'), Symbol('{a_{p}}_{3}'), Symbol('{a_{p}}_{4}'), Symbol('{x_{p}}_{1}'), Symbol('{a_{p}}_{6}'), Symbol('{y_{p}}_{1}'), Symbol('{x_{p}}_{3}'), Symbol('{y_{p}}_{3}'), Symbol('{a_{p}}_{9}'), Symbol('{a_{p}}_{8}')}</p></details>\n"
     ]
    }
   ],
   "source": [
    "dp(expr1.free_symbols)"
   ]
  },
  {
   "cell_type": "code",
   "execution_count": 17,
   "id": "36272d14",
   "metadata": {},
   "outputs": [
    {
     "data": {
      "text/plain": [
       "{'expr': Eq(Matrix([\n",
       " [{a_{p}}_{1}, {a_{p}}_{2}, {a_{p}}_{3}],\n",
       " [{a_{p}}_{4}, {a_{p}}_{5}, {a_{p}}_{6}],\n",
       " [{a_{p}}_{7}, {a_{p}}_{8}, {a_{p}}_{9}]])*Matrix([\n",
       " [{x_{p}}_{1}],\n",
       " [{x_{p}}_{2}],\n",
       " [{x_{p}}_{3}]]), Matrix([\n",
       " [{y_{p}}_{1}],\n",
       " [{y_{p}}_{2}],\n",
       " [{y_{p}}_{3}]])),\n",
       " 'syms': ({a_{p}}_{1},\n",
       "  {a_{p}}_{2},\n",
       "  {a_{p}}_{3},\n",
       "  {a_{p}}_{4},\n",
       "  {a_{p}}_{5},\n",
       "  {a_{p}}_{6},\n",
       "  {a_{p}}_{7},\n",
       "  {a_{p}}_{8},\n",
       "  {a_{p}}_{9},\n",
       "  {x_{p}}_{1},\n",
       "  {x_{p}}_{2},\n",
       "  {x_{p}}_{3})}"
      ]
     },
     "metadata": {},
     "output_type": "display_data"
    },
    {
     "name": "stdout",
     "output_type": "stream",
     "text": [
      "$$\\left\\{ \\mathtt{\\text{expr}} : \\left[\\begin{matrix}{a_{p}}_{1} & {a_{p}}_{2} & {a_{p}}_{3}\\\\{a_{p}}_{4} & {a_{p}}_{5} & {a_{p}}_{6}\\\\{a_{p}}_{7} & {a_{p}}_{8} & {a_{p}}_{9}\\end{matrix}\\right] \\left[\\begin{matrix}{x_{p}}_{1}\\\\{x_{p}}_{2}\\\\{x_{p}}_{3}\\end{matrix}\\right] = \\left[\\begin{matrix}{y_{p}}_{1}\\\\{y_{p}}_{2}\\\\{y_{p}}_{3}\\end{matrix}\\right], \\  \\mathtt{\\text{syms}} : \\left( {a_{p}}_{1}, \\  {a_{p}}_{2}, \\  {a_{p}}_{3}, \\  {a_{p}}_{4}, \\  {a_{p}}_{5}, \\  {a_{p}}_{6}, \\  {a_{p}}_{7}, \\  {a_{p}}_{8}, \\  {a_{p}}_{9}, \\  {x_{p}}_{1}, \\  {x_{p}}_{2}, \\  {x_{p}}_{3}\\right)\\right\\}$$<details><summary>sympy.srepr()</summary><p>{'expr': Equality(MatMul(ImmutableDenseMatrix([[Symbol('{a_{p}}_{1}'), Symbol('{a_{p}}_{2}'), Symbol('{a_{p}}_{3}')], [Symbol('{a_{p}}_{4}'), Symbol('{a_{p}}_{5}'), Symbol('{a_{p}}_{6}')], [Symbol('{a_{p}}_{7}'), Symbol('{a_{p}}_{8}'), Symbol('{a_{p}}_{9}')]]), ImmutableDenseMatrix([[Symbol('{x_{p}}_{1}')], [Symbol('{x_{p}}_{2}')], [Symbol('{x_{p}}_{3}')]])), ImmutableDenseMatrix([[Symbol('{y_{p}}_{1}')], [Symbol('{y_{p}}_{2}')], [Symbol('{y_{p}}_{3}')]])), 'syms': (Symbol('{a_{p}}_{1}'), Symbol('{a_{p}}_{2}'), Symbol('{a_{p}}_{3}'), Symbol('{a_{p}}_{4}'), Symbol('{a_{p}}_{5}'), Symbol('{a_{p}}_{6}'), Symbol('{a_{p}}_{7}'), Symbol('{a_{p}}_{8}'), Symbol('{a_{p}}_{9}'), Symbol('{x_{p}}_{1}'), Symbol('{x_{p}}_{2}'), Symbol('{x_{p}}_{3}'))}</p></details>\n"
     ]
    }
   ],
   "source": [
    "exprs1 = {\"expr\": expr1, \"syms\": expr1.free_symbols}\n",
    "# または\n",
    "exprs1 = {\"expr\": expr1, \"syms\": (*ap, *xp)}\n",
    "dp(exprs1)"
   ]
  }
 ],
 "metadata": {
  "kernelspec": {
   "display_name": "python-std",
   "language": "python",
   "name": "python3"
  },
  "language_info": {
   "codemirror_mode": {
    "name": "ipython",
    "version": 3
   },
   "file_extension": ".py",
   "mimetype": "text/x-python",
   "name": "python",
   "nbconvert_exporter": "python",
   "pygments_lexer": "ipython3",
   "version": "3.13.5"
  }
 },
 "nbformat": 4,
 "nbformat_minor": 5
}
